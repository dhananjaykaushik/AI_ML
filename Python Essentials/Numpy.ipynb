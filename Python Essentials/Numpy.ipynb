{
 "cells": [
  {
   "cell_type": "code",
   "execution_count": 2,
   "metadata": {},
   "outputs": [],
   "source": [
    "import numpy as np"
   ]
  },
  {
   "cell_type": "code",
   "execution_count": 32,
   "metadata": {},
   "outputs": [
    {
     "output_type": "stream",
     "name": "stdout",
     "text": [
      "[45 48 65 68 68 10]\n10\n"
     ]
    }
   ],
   "source": [
    "# Creating Arrays\n",
    "arr0 = np.zeros(5)\n",
    "arr1 = np.ones(5)\n",
    "# arr => array([0., 0., 0., 0., 0.])\n",
    "# type(arr[0]) => numpy.float64\n",
    "\n",
    "\n",
    "# Using linspace\n",
    "arr2 = np.linspace(2, 10, 9)\n",
    "# arr2 => array([ 2.,  3.,  4.,  5.,  6.,  7.,  8.,  9., 10.])\n",
    "\n",
    "a_list = [1, 2, 3, 4, 5, 6, 7, 8]\n",
    "arr3 = np.array(a_list)\n",
    "# arr3 => array([1, 2, 3, 4, 5, 6, 7, 8])\n",
    "# arr3[0] => 1\n",
    "\n",
    "b_list = [[1, 2, 3], [4, 5, 6]];\n",
    "arr4 = np.array(b_list)\n",
    "# arr4 => array([[1, 2, 3], [4, 5, 6]])\n",
    "# arr4[1][0] => 4\n",
    "# arr4.shape => (2, 3)\n",
    "\n",
    "np.random.seed(0)\n",
    "arr5 = np.random.randint(1, 100, size=6)\n",
    "# arr5 => array([47, 89, 82, 38, 26, 78])\n",
    "# arr5[-1] => 78\n",
    "# arr5[0:2] => array([[47, 89]])"
   ]
  },
  {
   "cell_type": "code",
   "execution_count": 70,
   "metadata": {},
   "outputs": [
    {
     "output_type": "stream",
     "name": "stdout",
     "text": [
      "197592654\n0\n188.43903923034668\n96.55423762587642\n9322.72080351421\n0\n255\n3\n0\n=======\n[255 255 255   0]\n"
     ]
    }
   ],
   "source": [
    "# Working with images\n",
    "from skimage import io\n",
    "\n",
    "# photo = io.imread('img1.jpg')\n",
    "photo = io.imread('img2.png')\n",
    "# type(photo) => numpy.ndarray\n",
    "# photo.shape => (1280, 1920, 3) => rows, columns, color-space (3 for rgb)\n",
    "\n",
    "import matplotlib.pyplot as plt\n",
    "# plt.imshow(photo) => shows image\n",
    "# plt.imshow(photo[::-1]) => Tilted image as rows are reversed\n",
    "# plt.imshow(photo[:, ::-1]) => Mirror Image as columns are reversed\n",
    "# plt.imshow(photo[400:1000, 100:1920]) => Cropping image\n",
    "# plt.imshow(photo[::2, ::2]) => half the size of image as every other row and column are taken\n",
    "\n",
    "# plt.imshow(photo)\n",
    "# plt.imshow(photo[::12, ::12])\n",
    "# print(np.sin(photo))\n",
    "\n",
    "\n",
    "# More Functions\n",
    "print(np.sum(photo))\n",
    "print(np.prod(photo))\n",
    "print(np.mean(photo))\n",
    "print(np.std(photo))\n",
    "print(np.var(photo))\n",
    "print(np.min(photo))\n",
    "print(np.max(photo))\n",
    "print(np.argmin(photo))\n",
    "print(np.argmax(photo))\n",
    "\n",
    "\n"
   ]
  },
  {
   "cell_type": "code",
   "execution_count": 91,
   "metadata": {},
   "outputs": [
    {
     "output_type": "execute_result",
     "data": {
      "text/plain": [
       "array([1, 2, 3, 4, 5, 6])"
      ]
     },
     "metadata": {},
     "execution_count": 91
    }
   ],
   "source": [
    "# Some more numpy functions\n",
    "\n",
    "myarr = np.array([1, 2, 3, 4, 5])\n",
    "myarr1 = np.array([1, 2, 3, 4, 5, 6])\n",
    "# myarr < 3 => array([ True,  True, False, False, False])\n",
    "# myarr > 3 => array([False, False, False,  True,  True])\n",
    "# myarr[myarr > 3] => array([4, 5]\n",
    "# myarr[myarr <= 3] => array([1, 2, 3])\n",
    "\n",
    "\n",
    "# photo_masked = np.where(photo > 70, 255, 0)\n",
    "# plt.imshow(photo_masked)\n",
    "\n",
    "# myarr + 30 => array([31, 32, 33, 34, 35])\n",
    "# myarr - 30 => array([-29, -28, -27, -26, -25])\n",
    "# myarr * myarr => array([ 1,  4,  9, 16, 25])\n",
    "# myarr * myarr1 => ValueError: operands could not be broadcast together with shapes (5,) (6,) \n",
    "# myarr @ myarr => Dot product\n",
    "# plt.imshow(photo[:,:,0].T) => transpose / Changes rows to columns\n",
    "\n",
    "# myarr2 = np.array([3, 4, 1, 2, 5, 6])\n",
    "# np.sort(myarr2)"
   ]
  },
  {
   "cell_type": "code",
   "execution_count": null,
   "metadata": {},
   "outputs": [],
   "source": []
  }
 ],
 "metadata": {
  "kernelspec": {
   "display_name": "Python 3",
   "language": "python",
   "name": "python3"
  },
  "language_info": {
   "codemirror_mode": {
    "name": "ipython",
    "version": 3
   },
   "file_extension": ".py",
   "mimetype": "text/x-python",
   "name": "python",
   "nbconvert_exporter": "python",
   "pygments_lexer": "ipython3",
   "version": "3.7.6-final"
  }
 },
 "nbformat": 4,
 "nbformat_minor": 4
}