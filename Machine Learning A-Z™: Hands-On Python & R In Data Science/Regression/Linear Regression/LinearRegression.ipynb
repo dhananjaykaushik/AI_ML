{
  "nbformat": 4,
  "nbformat_minor": 0,
  "metadata": {
    "colab": {
      "name": "Untitled0.ipynb",
      "provenance": []
    },
    "kernelspec": {
      "name": "python3",
      "display_name": "Python 3"
    }
  },
  "cells": [
    {
      "cell_type": "markdown",
      "metadata": {
        "id": "bra4dgkwDrCE",
        "colab_type": "text"
      },
      "source": [
        "**Importing Libraries**"
      ]
    },
    {
      "cell_type": "code",
      "metadata": {
        "id": "at_O4OHcDwiS",
        "colab_type": "code",
        "colab": {}
      },
      "source": [
        "import numpy as np\n",
        "import pandas as pd\n",
        "import matplotlib.pyplot as plt\n"
      ],
      "execution_count": 5,
      "outputs": []
    },
    {
      "cell_type": "markdown",
      "metadata": {
        "id": "6I1ULYPpD5nf",
        "colab_type": "text"
      },
      "source": [
        "**Importing Dataset**"
      ]
    },
    {
      "cell_type": "code",
      "metadata": {
        "id": "WFsrIJ8BD8J4",
        "colab_type": "code",
        "colab": {}
      },
      "source": [
        "dataset = pd.read_csv(\"Salary_Data.csv\")\n",
        "\n",
        "X = dataset.iloc[:, :-1].values\n",
        "y = dataset.iloc[:, -1].values"
      ],
      "execution_count": 26,
      "outputs": []
    },
    {
      "cell_type": "markdown",
      "metadata": {
        "id": "BhLAWN8pFJcc",
        "colab_type": "text"
      },
      "source": [
        "**Splitting Dataset**"
      ]
    },
    {
      "cell_type": "code",
      "metadata": {
        "id": "VZdsugPJFNIq",
        "colab_type": "code",
        "colab": {}
      },
      "source": [
        "from sklearn.model_selection import train_test_split\n",
        "X_train, X_test, y_train, y_test = train_test_split(X, y, test_size = 0.2, random_state = 1)"
      ],
      "execution_count": 35,
      "outputs": []
    },
    {
      "cell_type": "markdown",
      "metadata": {
        "id": "bHKOvbDVYIFC",
        "colab_type": "text"
      },
      "source": [
        "**Training Simple Linear Regression Model on Training Set**"
      ]
    },
    {
      "cell_type": "code",
      "metadata": {
        "id": "RIz7iz-jYO3d",
        "colab_type": "code",
        "colab": {
          "base_uri": "https://localhost:8080/",
          "height": 34
        },
        "outputId": "6fb9ebec-13e7-4f0a-c340-c27bb4ae3b3b"
      },
      "source": [
        "from sklearn.linear_model import LinearRegression\n",
        "regressor = LinearRegression()\n",
        "regressor.fit(X_train, y_train)"
      ],
      "execution_count": 36,
      "outputs": [
        {
          "output_type": "execute_result",
          "data": {
            "text/plain": [
              "LinearRegression(copy_X=True, fit_intercept=True, n_jobs=None, normalize=False)"
            ]
          },
          "metadata": {
            "tags": []
          },
          "execution_count": 36
        }
      ]
    },
    {
      "cell_type": "markdown",
      "metadata": {
        "id": "nnuFSBLTYc2j",
        "colab_type": "text"
      },
      "source": [
        "**Predicting Test Result**"
      ]
    },
    {
      "cell_type": "code",
      "metadata": {
        "id": "lud0v59sYfxb",
        "colab_type": "code",
        "colab": {}
      },
      "source": [
        "y_pred = regressor.predict(X_test)"
      ],
      "execution_count": 37,
      "outputs": []
    },
    {
      "cell_type": "markdown",
      "metadata": {
        "id": "lpS3QQ-AYpUL",
        "colab_type": "text"
      },
      "source": [
        "**Visualizing Training Set**"
      ]
    },
    {
      "cell_type": "code",
      "metadata": {
        "id": "_syZJfG-YtsH",
        "colab_type": "code",
        "colab": {
          "base_uri": "https://localhost:8080/",
          "height": 295
        },
        "outputId": "73d3376c-d550-4691-b256-f93c91d6474b"
      },
      "source": [
        "plt.scatter(X_train, y_train, color = \"red\")\n",
        "plt.plot(X_train, regressor.predict(X_train), color=\"blue\")\n",
        "plt.title(\"Salary Vs Experience ( Training Set )\")\n",
        "plt.xlabel(\"Years of experience\")\n",
        "plt.ylabel(\"Salary\")\n",
        "plt.show()"
      ],
      "execution_count": 42,
      "outputs": [
        {
          "output_type": "display_data",
          "data": {
            "image/png": "[encoded data removed]",
            "text/plain": [
              "<Figure size 432x288 with 1 Axes>"
            ]
          },
          "metadata": {
            "tags": [],
            "needs_background": "light"
          }
        }
      ]
    },
    {
      "cell_type": "markdown",
      "metadata": {
        "id": "u32XwD-6gDOT",
        "colab_type": "text"
      },
      "source": [
        "**Visualizing Test Set**"
      ]
    },
    {
      "cell_type": "code",
      "metadata": {
        "id": "XIObLHD9gC6u",
        "colab_type": "code",
        "colab": {
          "base_uri": "https://localhost:8080/",
          "height": 295
        },
        "outputId": "1b89b906-6296-44d5-d061-37877b7f32e6"
      },
      "source": [
        "plt.scatter(X_test, y_test, color = \"black\")\n",
        "plt.plot(X_train, regressor.predict(X_train), color=\"green\")\n",
        "plt.title(\"Salary Vs Experience ( Test Set )\")\n",
        "plt.xlabel(\"Years of experience\")\n",
        "plt.ylabel(\"Salary\")\n",
        "plt.show()"
      ],
      "execution_count": 43,
      "outputs": [
        {
          "output_type": "display_data",
          "data": {
            "image/png": "[encoded data removed]",
            "text/plain": [
              "<Figure size 432x288 with 1 Axes>"
            ]
          },
          "metadata": {
            "tags": [],
            "needs_background": "light"
          }
        }
      ]
    }
  ]
}